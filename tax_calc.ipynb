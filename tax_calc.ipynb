{
 "cells": [
  {
   "cell_type": "code",
   "execution_count": 1,
   "id": "104d5550-a969-43b0-a90b-0740ed4e39e1",
   "metadata": {},
   "outputs": [],
   "source": [
    "import random\n",
    "\n",
    "[random.randint(8, 15) for i in range(2000)]"
   ]
  },
  {
   "cell_type": "code",
   "execution_count": null,
   "id": "5e75358b-c28b-472d-86a4-759657d1a9e6",
   "metadata": {},
   "outputs": [],
   "source": []
  },
  {
   "cell_type": "code",
   "execution_count": 1,
   "id": "b2360bc4-ff98-4845-9ce5-9de8ab805122",
   "metadata": {},
   "outputs": [],
   "source": [
    "import pandas as pd"
   ]
  },
  {
   "cell_type": "code",
   "execution_count": 2,
   "id": "8b3b4662-554b-4f7b-8061-c98b7b565b46",
   "metadata": {},
   "outputs": [],
   "source": [
    "open_poses = pd.read_excel('data/tax/broker_statement.xlsx', sheet_name='open_poses_pd')\n",
    "open_poses = open_poses[open_poses['ticker'] != 'RURCUR']"
   ]
  },
  {
   "cell_type": "code",
   "execution_count": 3,
   "id": "cb846f9f-f8dd-4ea3-a4c9-885e687ac980",
   "metadata": {},
   "outputs": [],
   "source": [
    "open_poses_2021 = pd.read_excel('data/tax/broker_statement.xlsx', sheet_name='open_poses_end2021')\n",
    "open_poses_2021 = open_poses_2021[open_poses_2021['ticker'] != 'RURCUR']"
   ]
  },
  {
   "cell_type": "code",
   "execution_count": 4,
   "id": "f26a2411-909c-48c9-b605-46e57d88dd72",
   "metadata": {},
   "outputs": [],
   "source": [
    "trades_2022 = pd.read_excel('data/tax/broker_statement.xlsx', sheet_name='trades_pd')\n",
    "trades_2022 = trades_2022[trades_2022['ticker'] != 'RURCUR']\n"
   ]
  },
  {
   "cell_type": "code",
   "execution_count": 5,
   "id": "16a9d5a9-9bea-4847-a6b4-26942389589d",
   "metadata": {},
   "outputs": [
    {
     "data": {
      "text/html": [
       "<div>\n",
       "<style scoped>\n",
       "    .dataframe tbody tr th:only-of-type {\n",
       "        vertical-align: middle;\n",
       "    }\n",
       "\n",
       "    .dataframe tbody tr th {\n",
       "        vertical-align: top;\n",
       "    }\n",
       "\n",
       "    .dataframe thead th {\n",
       "        text-align: right;\n",
       "    }\n",
       "</style>\n",
       "<table border=\"1\" class=\"dataframe\">\n",
       "  <thead>\n",
       "    <tr style=\"text-align: right;\">\n",
       "      <th></th>\n",
       "      <th>ticker</th>\n",
       "      <th>count_start</th>\n",
       "      <th>price_start</th>\n",
       "      <th>volume_start</th>\n",
       "      <th>count_end</th>\n",
       "      <th>price_end</th>\n",
       "      <th>volume_end</th>\n",
       "      <th>balance</th>\n",
       "    </tr>\n",
       "  </thead>\n",
       "  <tbody>\n",
       "    <tr>\n",
       "      <th>55</th>\n",
       "      <td>TMUS</td>\n",
       "      <td>42</td>\n",
       "      <td>115.98</td>\n",
       "      <td>4871.16</td>\n",
       "      <td>0</td>\n",
       "      <td>0.00</td>\n",
       "      <td>0.0</td>\n",
       "      <td>0.0</td>\n",
       "    </tr>\n",
       "    <tr>\n",
       "      <th>56</th>\n",
       "      <td>TOST_IPO</td>\n",
       "      <td>20</td>\n",
       "      <td>34.71</td>\n",
       "      <td>694.20</td>\n",
       "      <td>0</td>\n",
       "      <td>0.00</td>\n",
       "      <td>0.0</td>\n",
       "      <td>0.0</td>\n",
       "    </tr>\n",
       "    <tr>\n",
       "      <th>12</th>\n",
       "      <td>F.GOGR_USD</td>\n",
       "      <td>0</td>\n",
       "      <td>0.00</td>\n",
       "      <td>0.00</td>\n",
       "      <td>42</td>\n",
       "      <td>13.05</td>\n",
       "      <td>548.1</td>\n",
       "      <td>548.1</td>\n",
       "    </tr>\n",
       "    <tr>\n",
       "      <th>62</th>\n",
       "      <td>USER_IPO</td>\n",
       "      <td>66</td>\n",
       "      <td>8.42</td>\n",
       "      <td>555.72</td>\n",
       "      <td>0</td>\n",
       "      <td>0.00</td>\n",
       "      <td>0.0</td>\n",
       "      <td>0.0</td>\n",
       "    </tr>\n",
       "    <tr>\n",
       "      <th>65</th>\n",
       "      <td>VACC</td>\n",
       "      <td>33</td>\n",
       "      <td>11.11</td>\n",
       "      <td>366.63</td>\n",
       "      <td>0</td>\n",
       "      <td>0.00</td>\n",
       "      <td>0.0</td>\n",
       "      <td>0.0</td>\n",
       "    </tr>\n",
       "  </tbody>\n",
       "</table>\n",
       "</div>"
      ],
      "text/plain": [
       "        ticker  count_start  price_start  volume_start  count_end  price_end  \\\n",
       "55        TMUS           42       115.98       4871.16          0       0.00   \n",
       "56    TOST_IPO           20        34.71        694.20          0       0.00   \n",
       "12  F.GOGR_USD            0         0.00          0.00         42      13.05   \n",
       "62    USER_IPO           66         8.42        555.72          0       0.00   \n",
       "65        VACC           33        11.11        366.63          0       0.00   \n",
       "\n",
       "    volume_end  balance  \n",
       "55         0.0      0.0  \n",
       "56         0.0      0.0  \n",
       "12       548.1    548.1  \n",
       "62         0.0      0.0  \n",
       "65         0.0      0.0  "
      ]
     },
     "execution_count": 5,
     "metadata": {},
     "output_type": "execute_result"
    }
   ],
   "source": [
    "open_poses.sample(5)"
   ]
  },
  {
   "cell_type": "code",
   "execution_count": 6,
   "id": "1741a428-8e2e-443e-b72b-b7ff8193ba3b",
   "metadata": {},
   "outputs": [
    {
     "data": {
      "text/html": [
       "<div>\n",
       "<style scoped>\n",
       "    .dataframe tbody tr th:only-of-type {\n",
       "        vertical-align: middle;\n",
       "    }\n",
       "\n",
       "    .dataframe tbody tr th {\n",
       "        vertical-align: top;\n",
       "    }\n",
       "\n",
       "    .dataframe thead th {\n",
       "        text-align: right;\n",
       "    }\n",
       "</style>\n",
       "<table border=\"1\" class=\"dataframe\">\n",
       "  <thead>\n",
       "    <tr style=\"text-align: right;\">\n",
       "      <th></th>\n",
       "      <th>ticker</th>\n",
       "      <th>dir</th>\n",
       "      <th>price</th>\n",
       "      <th>count</th>\n",
       "      <th>total</th>\n",
       "      <th>com_brok</th>\n",
       "      <th>com_ex</th>\n",
       "    </tr>\n",
       "  </thead>\n",
       "  <tbody>\n",
       "    <tr>\n",
       "      <th>327</th>\n",
       "      <td>TZA</td>\n",
       "      <td>Продажа</td>\n",
       "      <td>45.30</td>\n",
       "      <td>-20</td>\n",
       "      <td>906.00</td>\n",
       "      <td>1.20</td>\n",
       "      <td>0.00</td>\n",
       "    </tr>\n",
       "    <tr>\n",
       "      <th>534</th>\n",
       "      <td>SOXS</td>\n",
       "      <td>Продажа</td>\n",
       "      <td>35.01</td>\n",
       "      <td>-2</td>\n",
       "      <td>70.02</td>\n",
       "      <td>1.20</td>\n",
       "      <td>0.00</td>\n",
       "    </tr>\n",
       "    <tr>\n",
       "      <th>310</th>\n",
       "      <td>SOXS</td>\n",
       "      <td>Купля</td>\n",
       "      <td>40.33</td>\n",
       "      <td>100</td>\n",
       "      <td>-4033.00</td>\n",
       "      <td>1.20</td>\n",
       "      <td>0.03</td>\n",
       "    </tr>\n",
       "    <tr>\n",
       "      <th>165</th>\n",
       "      <td>JETS</td>\n",
       "      <td>Продажа</td>\n",
       "      <td>20.48</td>\n",
       "      <td>-454</td>\n",
       "      <td>9297.92</td>\n",
       "      <td>5.45</td>\n",
       "      <td>1.55</td>\n",
       "    </tr>\n",
       "    <tr>\n",
       "      <th>34</th>\n",
       "      <td>COHU</td>\n",
       "      <td>Продажа</td>\n",
       "      <td>33.35</td>\n",
       "      <td>-80</td>\n",
       "      <td>2668.00</td>\n",
       "      <td>1.20</td>\n",
       "      <td>-0.08</td>\n",
       "    </tr>\n",
       "  </tbody>\n",
       "</table>\n",
       "</div>"
      ],
      "text/plain": [
       "    ticker      dir  price  count    total  com_brok  com_ex\n",
       "327    TZA  Продажа  45.30    -20   906.00      1.20    0.00\n",
       "534   SOXS  Продажа  35.01     -2    70.02      1.20    0.00\n",
       "310   SOXS    Купля  40.33    100 -4033.00      1.20    0.03\n",
       "165   JETS  Продажа  20.48   -454  9297.92      5.45    1.55\n",
       "34    COHU  Продажа  33.35    -80  2668.00      1.20   -0.08"
      ]
     },
     "execution_count": 6,
     "metadata": {},
     "output_type": "execute_result"
    }
   ],
   "source": [
    "trades_2022.sample(5)"
   ]
  },
  {
   "cell_type": "code",
   "execution_count": 7,
   "id": "884869ab-ffa8-4952-8668-e46242c5494f",
   "metadata": {},
   "outputs": [],
   "source": [
    "deriv_tickers = \"UVXY TQQQ UPRO URTY KOLD SPXU TZA SOXS BOIL SQQQ TMF VXX NUGT JNUG YINN UNL\".split(' ')"
   ]
  },
  {
   "cell_type": "code",
   "execution_count": 8,
   "id": "e4f2637f-7bda-4a0d-9917-74b0ef9ae5af",
   "metadata": {
    "tags": []
   },
   "outputs": [],
   "source": [
    "share_tickers = list(set(trades_2022['ticker']).union(set(open_poses['ticker'])).union(set(open_poses_2021['ticker'])) - set(deriv_tickers))"
   ]
  },
  {
   "cell_type": "code",
   "execution_count": 9,
   "id": "9394ec76-803e-47ba-a126-3b0a953a43b3",
   "metadata": {},
   "outputs": [],
   "source": [
    "exclude_tickers = share_tickers"
   ]
  },
  {
   "cell_type": "code",
   "execution_count": 10,
   "id": "714417b5-e0b8-40b7-b3c1-85c1ec09e3c7",
   "metadata": {},
   "outputs": [],
   "source": [
    "def filter_by_ticker(df, exclude_tickers):\n",
    "    return df[~df['ticker'].isin(exclude_tickers)].copy()"
   ]
  },
  {
   "cell_type": "code",
   "execution_count": 11,
   "id": "1c3f899a-1ee4-4e19-b56d-0617d9e668e9",
   "metadata": {},
   "outputs": [],
   "source": [
    "def calc_deduct_expenses(poses, trades, exclude_tickers=[]):\n",
    "    poses = filter_by_ticker(poses, exclude_tickers)\n",
    "    trades = filter_by_ticker(trades, exclude_tickers)\n",
    "    iterator = poses[poses['count_end'] != 0].iterrows()\n",
    "    open_end = 0\n",
    "    ixs = []\n",
    "    tickers = []\n",
    "    balance_sums = []\n",
    "    trade_counts = []\n",
    "\n",
    "\n",
    "    while True:\n",
    "        try: \n",
    "            pose = next(iterator)\n",
    "            purcahse_count = 0\n",
    "            balance_sum = .0\n",
    "            balance_price = pose[1]['balance'] / pose[1]['count_end']\n",
    "            for row in trades[(trades['ticker'] == pose[1]['ticker']) &\n",
    "                                     (trades['dir'] == 'Купля')].iterrows():\n",
    "\n",
    "                purcahse_count += row[1]['count']\n",
    "                balance_sum += row[1]['count'] * balance_price\n",
    "                if purcahse_count > pose[1]['count_end']:\n",
    "                    balance_sum -= (purcahse_count - pose[1]['count_end']) * balance_price\n",
    "                    purcahse_count = pose[1]['count_end']\n",
    "                if pose[1]['count_end'] == purcahse_count:\n",
    "                    break\n",
    "            tickers.append(pose[1]['ticker'])\n",
    "            balance_sums.append(balance_sum)\n",
    "            trade_counts.append(purcahse_count)\n",
    "\n",
    "            open_end += 1\n",
    "            ixs.append(pose[0])\n",
    "        except StopIteration:\n",
    "            break\n",
    "    return pd.DataFrame(data={'ticker': tickers, 'balance': balance_sums, 'trade_count': trade_counts})"
   ]
  },
  {
   "cell_type": "code",
   "execution_count": 27,
   "id": "72774143-13ae-4fed-89fb-b9a7e6290d6f",
   "metadata": {},
   "outputs": [],
   "source": [
    "deduct_expenses = calc_deduct_expenses(open_poses, trades_2022[::-1], deriv_tickers)"
   ]
  },
  {
   "cell_type": "code",
   "execution_count": 13,
   "id": "c5e8ee7d-82e3-4ddb-b971-7972ac6d3115",
   "metadata": {},
   "outputs": [
    {
     "data": {
      "text/html": [
       "<div>\n",
       "<style scoped>\n",
       "    .dataframe tbody tr th:only-of-type {\n",
       "        vertical-align: middle;\n",
       "    }\n",
       "\n",
       "    .dataframe tbody tr th {\n",
       "        vertical-align: top;\n",
       "    }\n",
       "\n",
       "    .dataframe thead th {\n",
       "        text-align: right;\n",
       "    }\n",
       "</style>\n",
       "<table border=\"1\" class=\"dataframe\">\n",
       "  <thead>\n",
       "    <tr style=\"text-align: right;\">\n",
       "      <th></th>\n",
       "      <th>ticker</th>\n",
       "      <th>balance</th>\n",
       "      <th>trade_count</th>\n",
       "    </tr>\n",
       "  </thead>\n",
       "  <tbody>\n",
       "    <tr>\n",
       "      <th>0</th>\n",
       "      <td>JNUG</td>\n",
       "      <td>1384.72</td>\n",
       "      <td>38</td>\n",
       "    </tr>\n",
       "    <tr>\n",
       "      <th>1</th>\n",
       "      <td>NUGT</td>\n",
       "      <td>3021.82</td>\n",
       "      <td>93</td>\n",
       "    </tr>\n",
       "    <tr>\n",
       "      <th>2</th>\n",
       "      <td>TMF</td>\n",
       "      <td>2769.77</td>\n",
       "      <td>357</td>\n",
       "    </tr>\n",
       "    <tr>\n",
       "      <th>3</th>\n",
       "      <td>TQQQ</td>\n",
       "      <td>1817.93</td>\n",
       "      <td>107</td>\n",
       "    </tr>\n",
       "    <tr>\n",
       "      <th>4</th>\n",
       "      <td>URTY</td>\n",
       "      <td>1380.08</td>\n",
       "      <td>37</td>\n",
       "    </tr>\n",
       "  </tbody>\n",
       "</table>\n",
       "</div>"
      ],
      "text/plain": [
       "  ticker  balance  trade_count\n",
       "0   JNUG  1384.72           38\n",
       "1   NUGT  3021.82           93\n",
       "2    TMF  2769.77          357\n",
       "3   TQQQ  1817.93          107\n",
       "4   URTY  1380.08           37"
      ]
     },
     "execution_count": 13,
     "metadata": {},
     "output_type": "execute_result"
    }
   ],
   "source": [
    "deduct_expenses"
   ]
  },
  {
   "cell_type": "code",
   "execution_count": 14,
   "id": "cbd5998f-7548-43ee-9018-4224ee61c0f4",
   "metadata": {},
   "outputs": [],
   "source": [
    "def calc_deduct_profits(poses, trades, exclude_tickers=[]):\n",
    "    poses = filter_by_ticker(poses, exclude_tickers)\n",
    "    trades = filter_by_ticker(trades, exclude_tickers)\n",
    "    iterator = poses[poses['count_end'] != 0].iterrows()\n",
    "    open_end = 0\n",
    "    ixs = []\n",
    "    tickers = []\n",
    "    balance_sums = []\n",
    "    trade_counts = []\n",
    "\n",
    "    while True:\n",
    "        try: \n",
    "            pose = next(iterator)\n",
    "            sell_count = 0\n",
    "            balance_sum = .0\n",
    "            balance_price = pose[1]['balance'] / pose[1]['count_end']\n",
    "            for row in trades[(trades['ticker'] == pose[1]['ticker']) &\n",
    "                                     (trades['dir'] == 'Продажа')].iterrows():\n",
    "\n",
    "                sell_count += -row[1]['count']\n",
    "                balance_sum += -row[1]['count'] * balance_price\n",
    "                if sell_count > pose[1]['count_end']:\n",
    "                    balance_sum -= (sell_count - pose[1]['count_end']) * balance_price\n",
    "                    sell_count = pose[1]['count_end']\n",
    "                if pose[1]['count_end'] == sell_count:\n",
    "                    break\n",
    "            tickers.append(pose[1]['ticker'])\n",
    "            balance_sums.append(balance_sum)\n",
    "            trade_counts.append(sell_count)\n",
    "\n",
    "            open_end += 1\n",
    "            ixs.append(pose[0])\n",
    "        except StopIteration:\n",
    "            break\n",
    "    return pd.DataFrame(data={'ticker': tickers, 'balance': balance_sums, 'trade_count': trade_counts})"
   ]
  },
  {
   "cell_type": "code",
   "execution_count": 28,
   "id": "f71a837c-9792-422e-9546-bcdf995264be",
   "metadata": {},
   "outputs": [],
   "source": [
    "deduct_profits = calc_deduct_profits(open_poses_2021, trades_2022, deriv_tickers)"
   ]
  },
  {
   "cell_type": "code",
   "execution_count": 16,
   "id": "267732d5-8614-4c1a-93ff-3e481f07fb96",
   "metadata": {},
   "outputs": [
    {
     "data": {
      "text/html": [
       "<div>\n",
       "<style scoped>\n",
       "    .dataframe tbody tr th:only-of-type {\n",
       "        vertical-align: middle;\n",
       "    }\n",
       "\n",
       "    .dataframe tbody tr th {\n",
       "        vertical-align: top;\n",
       "    }\n",
       "\n",
       "    .dataframe thead th {\n",
       "        text-align: right;\n",
       "    }\n",
       "</style>\n",
       "<table border=\"1\" class=\"dataframe\">\n",
       "  <thead>\n",
       "    <tr style=\"text-align: right;\">\n",
       "      <th></th>\n",
       "      <th>ticker</th>\n",
       "      <th>balance</th>\n",
       "      <th>trade_count</th>\n",
       "    </tr>\n",
       "  </thead>\n",
       "  <tbody>\n",
       "    <tr>\n",
       "      <th>0</th>\n",
       "      <td>UVXY</td>\n",
       "      <td>14701.88</td>\n",
       "      <td>1036</td>\n",
       "    </tr>\n",
       "  </tbody>\n",
       "</table>\n",
       "</div>"
      ],
      "text/plain": [
       "  ticker   balance  trade_count\n",
       "0   UVXY  14701.88         1036"
      ]
     },
     "execution_count": 16,
     "metadata": {},
     "output_type": "execute_result"
    }
   ],
   "source": [
    "deduct_profits"
   ]
  },
  {
   "cell_type": "code",
   "execution_count": 23,
   "id": "41c9f57d-7fef-474c-ad5b-7582c71816da",
   "metadata": {},
   "outputs": [],
   "source": [
    "def calc_profit_loss(trades, poses_current, poses_prev, exclude_tickers=[]):\n",
    "    trades = filter_by_ticker(trades, exclude_tickers)\n",
    "    reverse_trades = trades[::-1]\n",
    "    deduct_profits = calc_deduct_profits(poses_prev, trades, exclude_tickers)\n",
    "    deduct_expenses = calc_deduct_expenses(poses_current, reverse_trades, exclude_tickers)\n",
    "    sales_only_mask = trades['dir'] == 'Продажа'\n",
    "    purchases_only_mask = trades['dir'] == 'Купля'\n",
    "    profit = trades[sales_only_mask]['total'].sum()\n",
    "    expense = (-trades[purchases_only_mask]['total'].sum()) + \\\n",
    "                trades['com_brok'].sum() + \\\n",
    "                trades['com_ex'].sum() + \\\n",
    "                deduct_profits['balance'].sum() - \\\n",
    "                deduct_expenses['balance'].sum()\n",
    "    return pd.DataFrame({'profit': [profit], 'expense': [expense], 'result': [profit - expense]})\n",
    "            "
   ]
  },
  {
   "cell_type": "code",
   "execution_count": 47,
   "id": "fc9c4bdb-52d2-445e-828e-df85885ebe4b",
   "metadata": {},
   "outputs": [
    {
     "data": {
      "text/html": [
       "<div>\n",
       "<style scoped>\n",
       "    .dataframe tbody tr th:only-of-type {\n",
       "        vertical-align: middle;\n",
       "    }\n",
       "\n",
       "    .dataframe tbody tr th {\n",
       "        vertical-align: top;\n",
       "    }\n",
       "\n",
       "    .dataframe thead th {\n",
       "        text-align: right;\n",
       "    }\n",
       "</style>\n",
       "<table border=\"1\" class=\"dataframe\">\n",
       "  <thead>\n",
       "    <tr style=\"text-align: right;\">\n",
       "      <th></th>\n",
       "      <th>profit</th>\n",
       "      <th>expense</th>\n",
       "      <th>result</th>\n",
       "    </tr>\n",
       "  </thead>\n",
       "  <tbody>\n",
       "    <tr>\n",
       "      <th>0</th>\n",
       "      <td>733136.99</td>\n",
       "      <td>749856.21</td>\n",
       "      <td>-16719.22</td>\n",
       "    </tr>\n",
       "  </tbody>\n",
       "</table>\n",
       "</div>"
      ],
      "text/plain": [
       "      profit    expense    result\n",
       "0  733136.99  749856.21 -16719.22"
      ]
     },
     "execution_count": 47,
     "metadata": {},
     "output_type": "execute_result"
    }
   ],
   "source": [
    "calc_profit_loss(trades_2022, open_poses, open_poses_2021, share_tickers)"
   ]
  },
  {
   "cell_type": "code",
   "execution_count": 55,
   "id": "5c7f5282-ca8b-4338-bed1-16bd37b36afd",
   "metadata": {},
   "outputs": [],
   "source": [
    "interest_margin_total = 474.38"
   ]
  },
  {
   "cell_type": "code",
   "execution_count": 29,
   "id": "2b7b0fdc-6266-4b6e-8f7c-686ce078cee5",
   "metadata": {},
   "outputs": [
    {
     "name": "stdout",
     "output_type": "stream",
     "text": [
      "-11732.662063348445\n"
     ]
    }
   ],
   "source": [
    "print(calc_trades_result(trades_2022, deriv_tickers) - deduct_profits['balance'].sum() + deduct_expenses['balance'].sum())"
   ]
  },
  {
   "cell_type": "code",
   "execution_count": null,
   "id": "d09a832a-1e5c-412e-bc05-f5287e3232b1",
   "metadata": {},
   "outputs": [],
   "source": []
  },
  {
   "cell_type": "code",
   "execution_count": null,
   "id": "f0edc5eb-d790-47e6-aec2-9d96c6aa5e72",
   "metadata": {},
   "outputs": [],
   "source": []
  },
  {
   "cell_type": "code",
   "execution_count": null,
   "id": "d0102178-4605-4306-a074-5d798b8f7205",
   "metadata": {},
   "outputs": [],
   "source": []
  },
  {
   "cell_type": "code",
   "execution_count": null,
   "id": "6cb11878-4d02-4236-9835-3170ea539ced",
   "metadata": {},
   "outputs": [],
   "source": []
  },
  {
   "cell_type": "code",
   "execution_count": null,
   "id": "62204410-f1b2-45a7-84dc-300c8c5d3d9d",
   "metadata": {},
   "outputs": [],
   "source": []
  },
  {
   "cell_type": "code",
   "execution_count": null,
   "id": "e6d4b523-6b25-47e7-ab41-ed9967e85df1",
   "metadata": {},
   "outputs": [],
   "source": []
  },
  {
   "cell_type": "code",
   "execution_count": null,
   "id": "a2797763-44a5-47af-9ee0-ae5eecc75fb8",
   "metadata": {},
   "outputs": [],
   "source": []
  },
  {
   "cell_type": "code",
   "execution_count": 48,
   "id": "010e4f75-c430-4cef-a06b-c563e8d1d9e9",
   "metadata": {},
   "outputs": [
    {
     "data": {
      "text/plain": [
       "51254321.63716199"
      ]
     },
     "execution_count": 48,
     "metadata": {},
     "output_type": "execute_result"
    }
   ],
   "source": [
    "749856.21 * 68.3522"
   ]
  },
  {
   "cell_type": "code",
   "execution_count": 45,
   "id": "e8a83b98-9d96-49ee-b716-b8a012158f63",
   "metadata": {},
   "outputs": [
    {
     "data": {
      "text/plain": [
       "801953.2638625894"
      ]
     },
     "execution_count": 45,
     "metadata": {},
     "output_type": "execute_result"
    }
   ],
   "source": [
    "15213810.260784589 - 14411856.996922 "
   ]
  },
  {
   "cell_type": "code",
   "execution_count": null,
   "id": "c9f6e4a9-3707-4b73-977a-5b9d68033901",
   "metadata": {},
   "outputs": [],
   "source": []
  },
  {
   "cell_type": "code",
   "execution_count": null,
   "id": "2ff4aea0-d867-4c0b-9564-d8ec635f3e94",
   "metadata": {},
   "outputs": [],
   "source": [
    "51254321.63716199"
   ]
  },
  {
   "cell_type": "code",
   "execution_count": null,
   "id": "6068cddc-e39a-43a1-9ce5-300365d8a350",
   "metadata": {},
   "outputs": [],
   "source": [
    "50 111 526.16"
   ]
  },
  {
   "cell_type": "code",
   "execution_count": null,
   "id": "f9d53d06-5869-484f-b10a-19f46acf6f12",
   "metadata": {},
   "outputs": [],
   "source": [
    "733 136.99"
   ]
  },
  {
   "cell_type": "code",
   "execution_count": null,
   "id": "bd19b865-8fbb-4a3f-9706-255850d45f90",
   "metadata": {},
   "outputs": [],
   "source": [
    "68.3522"
   ]
  },
  {
   "cell_type": "code",
   "execution_count": 13,
   "id": "99ecd4ba-b02c-4fa8-80f5-31877c3354db",
   "metadata": {},
   "outputs": [
    {
     "data": {
      "text/plain": [
       "360.2085434305545"
      ]
     },
     "execution_count": 13,
     "metadata": {},
     "output_type": "execute_result"
    }
   ],
   "source": [
    "( 50_111_526.16 / 51254321.63716199) * 368.4231145245024"
   ]
  },
  {
   "cell_type": "code",
   "execution_count": 17,
   "id": "eff9407a-4c65-43f7-b844-9ec776d219f1",
   "metadata": {},
   "outputs": [
    {
     "data": {
      "text/plain": [
       "100.37166597228195"
      ]
     },
     "execution_count": 17,
     "metadata": {},
     "output_type": "execute_result"
    }
   ],
   "source": [
    "(14_411_856.99 / 15213810.25) * 105.95688547549757"
   ]
  },
  {
   "cell_type": "code",
   "execution_count": 20,
   "id": "6c7fba79-d7d6-44ff-b310-05f6c2af0f73",
   "metadata": {},
   "outputs": [
    {
     "data": {
      "text/plain": [
       "51278942.68356328"
      ]
     },
     "execution_count": 20,
     "metadata": {},
     "output_type": "execute_result"
    }
   ],
   "source": [
    "68.3522 * 360.2085434305545 + 51254321.637161"
   ]
  },
  {
   "cell_type": "code",
   "execution_count": null,
   "id": "6f720464-2ba7-43cb-82f2-90a6dda8bb85",
   "metadata": {},
   "outputs": [],
   "source": [
    "51254321.637161"
   ]
  },
  {
   "cell_type": "code",
   "execution_count": null,
   "id": "f8a9f50b-63e6-4e0d-b1cd-424c3b366893",
   "metadata": {},
   "outputs": [],
   "source": []
  },
  {
   "cell_type": "code",
   "execution_count": null,
   "id": "b06a6c90-2702-4e9d-b03d-ec5f7fb80086",
   "metadata": {},
   "outputs": [],
   "source": []
  },
  {
   "cell_type": "code",
   "execution_count": 54,
   "id": "3063dc39-c43a-4650-b75b-3771b31911cf",
   "metadata": {},
   "outputs": [
    {
     "data": {
      "text/plain": [
       "65325336.41"
      ]
     },
     "execution_count": 54,
     "metadata": {},
     "output_type": "execute_result"
    }
   ],
   "source": [
    "15213810.25 + 50_111_526.16"
   ]
  },
  {
   "cell_type": "code",
   "execution_count": 52,
   "id": "9fe032c0-cdb3-4c96-94a5-5a1755a2cb24",
   "metadata": {},
   "outputs": [
    {
     "data": {
      "text/plain": [
       "15213810.25"
      ]
     },
     "execution_count": 52,
     "metadata": {},
     "output_type": "execute_result"
    }
   ],
   "source": [
    "14_411_856.99 + 801_953.26"
   ]
  },
  {
   "cell_type": "code",
   "execution_count": null,
   "id": "b9476d7d-5500-4dd1-9e1a-a854247fd6d0",
   "metadata": {},
   "outputs": [],
   "source": [
    "14 411 856.99"
   ]
  },
  {
   "cell_type": "code",
   "execution_count": null,
   "id": "3b7fb077-5437-4a70-9238-c50ae998c414",
   "metadata": {},
   "outputs": [],
   "source": [
    "801 953.26"
   ]
  },
  {
   "cell_type": "code",
   "execution_count": null,
   "id": "aedd5b16-fe9b-493a-bb28-d9d39f326aa2",
   "metadata": {},
   "outputs": [],
   "source": [
    "210 847.01"
   ]
  },
  {
   "cell_type": "code",
   "execution_count": null,
   "id": "50ca34f4-36dc-4de8-b1f4-c557a0c87a01",
   "metadata": {},
   "outputs": [],
   "source": [
    "68.3522"
   ]
  },
  {
   "cell_type": "code",
   "execution_count": 46,
   "id": "15b54a58-3e38-4807-b973-8b75ea47b682",
   "metadata": {},
   "outputs": [
    {
     "data": {
      "text/plain": [
       "2860.0"
      ]
     },
     "execution_count": 46,
     "metadata": {},
     "output_type": "execute_result"
    }
   ],
   "source": [
    "\n",
    "22000.00 * .13"
   ]
  },
  {
   "cell_type": "code",
   "execution_count": 10,
   "id": "9b0a82fe-6a63-4819-aa5a-7497e23cce07",
   "metadata": {},
   "outputs": [
    {
     "data": {
      "text/plain": [
       "105.95688547549757"
      ]
     },
     "execution_count": 10,
     "metadata": {},
     "output_type": "execute_result"
    }
   ],
   "source": [
    "14_411_856.99/ (14_411_856.99 + 50_111_526.16) * 474.38"
   ]
  },
  {
   "cell_type": "code",
   "execution_count": 11,
   "id": "c2693cd0-be1c-4f9d-a036-f0fa2556f796",
   "metadata": {},
   "outputs": [
    {
     "data": {
      "text/plain": [
       "368.4231145245024"
      ]
     },
     "execution_count": 11,
     "metadata": {},
     "output_type": "execute_result"
    }
   ],
   "source": [
    "474.38 - 14_411_856.99/ (14_411_856.99 + 50_111_526.16) * 474.38"
   ]
  },
  {
   "cell_type": "code",
   "execution_count": null,
   "id": "51d090c1-db0d-409e-a198-192ab8b14b25",
   "metadata": {},
   "outputs": [],
   "source": []
  },
  {
   "cell_type": "code",
   "execution_count": 49,
   "id": "dd1cd5b0-bfc0-4b48-af6e-ecd613a49ef2",
   "metadata": {},
   "outputs": [
    {
     "data": {
      "text/plain": [
       "6890"
      ]
     },
     "execution_count": 49,
     "metadata": {},
     "output_type": "execute_result"
    }
   ],
   "source": [
    "4000 + 1590 + 1300"
   ]
  },
  {
   "cell_type": "code",
   "execution_count": 51,
   "id": "91842849-f4cc-4851-be71-8745eeef3184",
   "metadata": {},
   "outputs": [
    {
     "data": {
      "text/plain": [
       "0.12987192800276912"
      ]
     },
     "execution_count": 51,
     "metadata": {},
     "output_type": "execute_result"
    }
   ],
   "source": [
    "3752 / (4000 + 1590 + 1300 + 22000)"
   ]
  }
 ],
 "metadata": {
  "kernelspec": {
   "display_name": "expts",
   "language": "python",
   "name": "expts"
  },
  "language_info": {
   "codemirror_mode": {
    "name": "ipython",
    "version": 3
   },
   "file_extension": ".py",
   "mimetype": "text/x-python",
   "name": "python",
   "nbconvert_exporter": "python",
   "pygments_lexer": "ipython3",
   "version": "3.10.4"
  }
 },
 "nbformat": 4,
 "nbformat_minor": 5
}
