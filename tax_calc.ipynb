{
 "cells": [
  {
   "cell_type": "code",
   "execution_count": 1,
   "id": "85d5903e-00ed-4e4b-8b65-31453e95a742",
   "metadata": {},
   "outputs": [],
   "source": [
    "import random\n",
    "\n",
    "import pandas as pd"
   ]
  },
  {
   "cell_type": "code",
   "execution_count": 54,
   "id": "0f00312b-5557-4a66-9873-208b948d4e62",
   "metadata": {},
   "outputs": [],
   "source": [
    "usd_avg = 92.52"
   ]
  },
  {
   "cell_type": "code",
   "execution_count": 2,
   "id": "8b3b4662-554b-4f7b-8061-c98b7b565b46",
   "metadata": {},
   "outputs": [],
   "source": [
    "poses_start = pd.read_excel('data/brok_taxes_2024.xlsx', sheet_name='open_poses_start')\n",
    "poses_start = poses_start[poses_start['ticker'] != 'RURCUR']"
   ]
  },
  {
   "cell_type": "code",
   "execution_count": 3,
   "id": "cb846f9f-f8dd-4ea3-a4c9-885e687ac980",
   "metadata": {},
   "outputs": [],
   "source": [
    "poses_end = pd.read_excel('data/brok_taxes_2024.xlsx', sheet_name='open_poses_end')\n",
    "poses_end = poses_end[poses_end['ticker'] != 'RURCUR']"
   ]
  },
  {
   "cell_type": "code",
   "execution_count": 6,
   "id": "55cda0d4-0823-444e-b861-5085516b9383",
   "metadata": {},
   "outputs": [
    {
     "data": {
      "text/html": [
       "<div>\n",
       "<style scoped>\n",
       "    .dataframe tbody tr th:only-of-type {\n",
       "        vertical-align: middle;\n",
       "    }\n",
       "\n",
       "    .dataframe tbody tr th {\n",
       "        vertical-align: top;\n",
       "    }\n",
       "\n",
       "    .dataframe thead th {\n",
       "        text-align: right;\n",
       "    }\n",
       "</style>\n",
       "<table border=\"1\" class=\"dataframe\">\n",
       "  <thead>\n",
       "    <tr style=\"text-align: right;\">\n",
       "      <th></th>\n",
       "      <th>ticker</th>\n",
       "      <th>count_start</th>\n",
       "      <th>price_start</th>\n",
       "      <th>volume_start</th>\n",
       "      <th>count_end</th>\n",
       "      <th>price_end</th>\n",
       "      <th>volume_end</th>\n",
       "      <th>balance</th>\n",
       "    </tr>\n",
       "  </thead>\n",
       "  <tbody>\n",
       "    <tr>\n",
       "      <th>1</th>\n",
       "      <td>PGNY</td>\n",
       "      <td>26</td>\n",
       "      <td>31.15</td>\n",
       "      <td>809.90</td>\n",
       "      <td>26</td>\n",
       "      <td>37.18</td>\n",
       "      <td>966.68</td>\n",
       "      <td>1231.66</td>\n",
       "    </tr>\n",
       "    <tr>\n",
       "      <th>5</th>\n",
       "      <td>SPXU</td>\n",
       "      <td>0</td>\n",
       "      <td>0.00</td>\n",
       "      <td>0.00</td>\n",
       "      <td>2198</td>\n",
       "      <td>8.60</td>\n",
       "      <td>18902.80</td>\n",
       "      <td>18902.80</td>\n",
       "    </tr>\n",
       "    <tr>\n",
       "      <th>2</th>\n",
       "      <td>SEMR_IPO</td>\n",
       "      <td>1</td>\n",
       "      <td>8.14</td>\n",
       "      <td>8.14</td>\n",
       "      <td>1</td>\n",
       "      <td>13.66</td>\n",
       "      <td>13.66</td>\n",
       "      <td>14.00</td>\n",
       "    </tr>\n",
       "    <tr>\n",
       "      <th>0</th>\n",
       "      <td>F.GOGR_USD</td>\n",
       "      <td>42</td>\n",
       "      <td>13.05</td>\n",
       "      <td>548.10</td>\n",
       "      <td>42</td>\n",
       "      <td>12.67</td>\n",
       "      <td>531.97</td>\n",
       "      <td>548.10</td>\n",
       "    </tr>\n",
       "    <tr>\n",
       "      <th>6</th>\n",
       "      <td>TZA</td>\n",
       "      <td>0</td>\n",
       "      <td>0.00</td>\n",
       "      <td>0.00</td>\n",
       "      <td>28</td>\n",
       "      <td>19.95</td>\n",
       "      <td>558.60</td>\n",
       "      <td>544.60</td>\n",
       "    </tr>\n",
       "  </tbody>\n",
       "</table>\n",
       "</div>"
      ],
      "text/plain": [
       "       ticker  count_start  price_start  volume_start  count_end  price_end  \\\n",
       "1        PGNY           26        31.15        809.90         26      37.18   \n",
       "5        SPXU            0         0.00          0.00       2198       8.60   \n",
       "2    SEMR_IPO            1         8.14          8.14          1      13.66   \n",
       "0  F.GOGR_USD           42        13.05        548.10         42      12.67   \n",
       "6         TZA            0         0.00          0.00         28      19.95   \n",
       "\n",
       "   volume_end   balance  \n",
       "1      966.68   1231.66  \n",
       "5    18902.80  18902.80  \n",
       "2       13.66     14.00  \n",
       "0      531.97    548.10  \n",
       "6      558.60    544.60  "
      ]
     },
     "execution_count": 6,
     "metadata": {},
     "output_type": "execute_result"
    }
   ],
   "source": [
    "poses_start.sample(5)"
   ]
  },
  {
   "cell_type": "code",
   "execution_count": 7,
   "id": "f26a2411-909c-48c9-b605-46e57d88dd72",
   "metadata": {},
   "outputs": [],
   "source": [
    "trades = pd.read_excel('data/brok_taxes_2024.xlsx', sheet_name='trades_pd')\n",
    "trades = trades[trades['ticker'] != 'RURCUR']\n"
   ]
  },
  {
   "cell_type": "code",
   "execution_count": 8,
   "id": "16a9d5a9-9bea-4847-a6b4-26942389589d",
   "metadata": {},
   "outputs": [
    {
     "data": {
      "text/html": [
       "<div>\n",
       "<style scoped>\n",
       "    .dataframe tbody tr th:only-of-type {\n",
       "        vertical-align: middle;\n",
       "    }\n",
       "\n",
       "    .dataframe tbody tr th {\n",
       "        vertical-align: top;\n",
       "    }\n",
       "\n",
       "    .dataframe thead th {\n",
       "        text-align: right;\n",
       "    }\n",
       "</style>\n",
       "<table border=\"1\" class=\"dataframe\">\n",
       "  <thead>\n",
       "    <tr style=\"text-align: right;\">\n",
       "      <th></th>\n",
       "      <th>ticker</th>\n",
       "      <th>count_start</th>\n",
       "      <th>price_start</th>\n",
       "      <th>volume_start</th>\n",
       "      <th>count_end</th>\n",
       "      <th>price_end</th>\n",
       "      <th>volume_end</th>\n",
       "      <th>balance</th>\n",
       "    </tr>\n",
       "  </thead>\n",
       "  <tbody>\n",
       "    <tr>\n",
       "      <th>4</th>\n",
       "      <td>SPBE</td>\n",
       "      <td>NaN</td>\n",
       "      <td>NaN</td>\n",
       "      <td>NaN</td>\n",
       "      <td>301</td>\n",
       "      <td>NaN</td>\n",
       "      <td>NaN</td>\n",
       "      <td>3644.76</td>\n",
       "    </tr>\n",
       "    <tr>\n",
       "      <th>2</th>\n",
       "      <td>SEMR_IPO</td>\n",
       "      <td>NaN</td>\n",
       "      <td>NaN</td>\n",
       "      <td>NaN</td>\n",
       "      <td>1</td>\n",
       "      <td>NaN</td>\n",
       "      <td>NaN</td>\n",
       "      <td>14.00</td>\n",
       "    </tr>\n",
       "    <tr>\n",
       "      <th>6</th>\n",
       "      <td>TZA</td>\n",
       "      <td>NaN</td>\n",
       "      <td>NaN</td>\n",
       "      <td>NaN</td>\n",
       "      <td>28</td>\n",
       "      <td>NaN</td>\n",
       "      <td>NaN</td>\n",
       "      <td>544.60</td>\n",
       "    </tr>\n",
       "    <tr>\n",
       "      <th>5</th>\n",
       "      <td>SPXU</td>\n",
       "      <td>NaN</td>\n",
       "      <td>NaN</td>\n",
       "      <td>NaN</td>\n",
       "      <td>1099</td>\n",
       "      <td>NaN</td>\n",
       "      <td>NaN</td>\n",
       "      <td>9452.40</td>\n",
       "    </tr>\n",
       "    <tr>\n",
       "      <th>1</th>\n",
       "      <td>PGNY</td>\n",
       "      <td>NaN</td>\n",
       "      <td>NaN</td>\n",
       "      <td>NaN</td>\n",
       "      <td>26</td>\n",
       "      <td>NaN</td>\n",
       "      <td>NaN</td>\n",
       "      <td>1231.66</td>\n",
       "    </tr>\n",
       "  </tbody>\n",
       "</table>\n",
       "</div>"
      ],
      "text/plain": [
       "     ticker  count_start  price_start  volume_start  count_end  price_end  \\\n",
       "4      SPBE          NaN          NaN           NaN        301        NaN   \n",
       "2  SEMR_IPO          NaN          NaN           NaN          1        NaN   \n",
       "6       TZA          NaN          NaN           NaN         28        NaN   \n",
       "5      SPXU          NaN          NaN           NaN       1099        NaN   \n",
       "1      PGNY          NaN          NaN           NaN         26        NaN   \n",
       "\n",
       "   volume_end  balance  \n",
       "4         NaN  3644.76  \n",
       "2         NaN    14.00  \n",
       "6         NaN   544.60  \n",
       "5         NaN  9452.40  \n",
       "1         NaN  1231.66  "
      ]
     },
     "execution_count": 8,
     "metadata": {},
     "output_type": "execute_result"
    }
   ],
   "source": [
    "poses_end.sample(5)"
   ]
  },
  {
   "cell_type": "code",
   "execution_count": 33,
   "id": "1741a428-8e2e-443e-b72b-b7ff8193ba3b",
   "metadata": {},
   "outputs": [
    {
     "data": {
      "text/html": [
       "<div>\n",
       "<style scoped>\n",
       "    .dataframe tbody tr th:only-of-type {\n",
       "        vertical-align: middle;\n",
       "    }\n",
       "\n",
       "    .dataframe tbody tr th {\n",
       "        vertical-align: top;\n",
       "    }\n",
       "\n",
       "    .dataframe thead th {\n",
       "        text-align: right;\n",
       "    }\n",
       "</style>\n",
       "<table border=\"1\" class=\"dataframe\">\n",
       "  <thead>\n",
       "    <tr style=\"text-align: right;\">\n",
       "      <th></th>\n",
       "      <th>ticker</th>\n",
       "      <th>dir</th>\n",
       "      <th>price</th>\n",
       "      <th>count</th>\n",
       "      <th>total</th>\n",
       "      <th>com_brok</th>\n",
       "      <th>com_ex</th>\n",
       "    </tr>\n",
       "  </thead>\n",
       "  <tbody>\n",
       "    <tr>\n",
       "      <th>7</th>\n",
       "      <td>VXX</td>\n",
       "      <td>Продажа</td>\n",
       "      <td>14.02</td>\n",
       "      <td>-2066</td>\n",
       "      <td>28965.32</td>\n",
       "      <td>24.80</td>\n",
       "      <td>0</td>\n",
       "    </tr>\n",
       "    <tr>\n",
       "      <th>0</th>\n",
       "      <td>TMV</td>\n",
       "      <td>Купля</td>\n",
       "      <td>30.89</td>\n",
       "      <td>140</td>\n",
       "      <td>-4324.57</td>\n",
       "      <td>1.68</td>\n",
       "      <td>0</td>\n",
       "    </tr>\n",
       "    <tr>\n",
       "      <th>6</th>\n",
       "      <td>VXX</td>\n",
       "      <td>Купля</td>\n",
       "      <td>14.90</td>\n",
       "      <td>584</td>\n",
       "      <td>-8701.13</td>\n",
       "      <td>7.01</td>\n",
       "      <td>0</td>\n",
       "    </tr>\n",
       "    <tr>\n",
       "      <th>1</th>\n",
       "      <td>TMV</td>\n",
       "      <td>Продажа</td>\n",
       "      <td>34.31</td>\n",
       "      <td>-44</td>\n",
       "      <td>1509.64</td>\n",
       "      <td>1.20</td>\n",
       "      <td>0</td>\n",
       "    </tr>\n",
       "    <tr>\n",
       "      <th>4</th>\n",
       "      <td>VXX</td>\n",
       "      <td>Купля</td>\n",
       "      <td>14.11</td>\n",
       "      <td>142</td>\n",
       "      <td>-2003.34</td>\n",
       "      <td>1.70</td>\n",
       "      <td>0</td>\n",
       "    </tr>\n",
       "  </tbody>\n",
       "</table>\n",
       "</div>"
      ],
      "text/plain": [
       "  ticker      dir  price  count     total  com_brok  com_ex\n",
       "7    VXX  Продажа  14.02  -2066  28965.32     24.80       0\n",
       "0    TMV    Купля  30.89    140  -4324.57      1.68       0\n",
       "6    VXX    Купля  14.90    584  -8701.13      7.01       0\n",
       "1    TMV  Продажа  34.31    -44   1509.64      1.20       0\n",
       "4    VXX    Купля  14.11    142  -2003.34      1.70       0"
      ]
     },
     "execution_count": 33,
     "metadata": {},
     "output_type": "execute_result"
    }
   ],
   "source": [
    "trades.sample(5)"
   ]
  },
  {
   "cell_type": "code",
   "execution_count": 10,
   "id": "884869ab-ffa8-4952-8668-e46242c5494f",
   "metadata": {},
   "outputs": [],
   "source": [
    "deriv_tickers = \"UVXY TQQQ UPRO URTY KOLD SPXU TZA SOXS BOIL SQQQ TMF TMV VXX NUGT JNUG YINN UNL\".split(' ')"
   ]
  },
  {
   "cell_type": "code",
   "execution_count": 12,
   "id": "e4f2637f-7bda-4a0d-9917-74b0ef9ae5af",
   "metadata": {
    "tags": []
   },
   "outputs": [],
   "source": [
    "share_tickers = list(set(trades['ticker']).union(set(poses_end['ticker'])).union(set(poses_start['ticker'])) - set(deriv_tickers))\n"
   ]
  },
  {
   "cell_type": "code",
   "execution_count": 44,
   "id": "9394ec76-803e-47ba-a126-3b0a953a43b3",
   "metadata": {},
   "outputs": [],
   "source": [
    "exclude_tickers = share_tickers"
   ]
  },
  {
   "cell_type": "code",
   "execution_count": 45,
   "id": "714417b5-e0b8-40b7-b3c1-85c1ec09e3c7",
   "metadata": {},
   "outputs": [],
   "source": [
    "def filter_by_ticker(df, exclude_tickers):\n",
    "    return df[~df['ticker'].isin(exclude_tickers)].copy()"
   ]
  },
  {
   "cell_type": "code",
   "execution_count": 46,
   "id": "1c3f899a-1ee4-4e19-b56d-0617d9e668e9",
   "metadata": {},
   "outputs": [],
   "source": [
    "def calc_deduct_expenses(poses, trades, exclude_tickers=[]):\n",
    "    poses = filter_by_ticker(poses, exclude_tickers)\n",
    "    trades = filter_by_ticker(trades, exclude_tickers)\n",
    "    iterator = poses[poses['count_end'] != 0].iterrows()\n",
    "    open_end = 0\n",
    "    ixs = []\n",
    "    tickers = []\n",
    "    balance_sums = []\n",
    "    trade_counts = []\n",
    "\n",
    "\n",
    "    while True:\n",
    "        try: \n",
    "            pose = next(iterator)\n",
    "            purcahse_count = 0\n",
    "            balance_sum = .0\n",
    "            balance_price = pose[1]['balance'] / pose[1]['count_end']\n",
    "            for row in trades[(trades['ticker'] == pose[1]['ticker']) &\n",
    "                                     (trades['dir'] == 'Купля')].iterrows():\n",
    "\n",
    "                purcahse_count += row[1]['count']\n",
    "                balance_sum += row[1]['count'] * balance_price\n",
    "                if purcahse_count > pose[1]['count_end']:\n",
    "                    balance_sum -= (purcahse_count - pose[1]['count_end']) * balance_price\n",
    "                    purcahse_count = pose[1]['count_end']\n",
    "                if pose[1]['count_end'] == purcahse_count:\n",
    "                    break\n",
    "            tickers.append(pose[1]['ticker'])\n",
    "            balance_sums.append(balance_sum)\n",
    "            trade_counts.append(purcahse_count)\n",
    "\n",
    "            open_end += 1\n",
    "            ixs.append(pose[0])\n",
    "        except StopIteration:\n",
    "            break\n",
    "    return pd.DataFrame(data={'ticker': tickers, 'balance': balance_sums, 'trade_count': trade_counts})"
   ]
  },
  {
   "cell_type": "code",
   "execution_count": 47,
   "id": "72774143-13ae-4fed-89fb-b9a7e6290d6f",
   "metadata": {},
   "outputs": [],
   "source": [
    "deduct_expenses = calc_deduct_expenses(poses_end, trades[::-1], exclude_tickers)"
   ]
  },
  {
   "cell_type": "code",
   "execution_count": 48,
   "id": "c5e8ee7d-82e3-4ddb-b971-7972ac6d3115",
   "metadata": {},
   "outputs": [
    {
     "data": {
      "text/html": [
       "<div>\n",
       "<style scoped>\n",
       "    .dataframe tbody tr th:only-of-type {\n",
       "        vertical-align: middle;\n",
       "    }\n",
       "\n",
       "    .dataframe tbody tr th {\n",
       "        vertical-align: top;\n",
       "    }\n",
       "\n",
       "    .dataframe thead th {\n",
       "        text-align: right;\n",
       "    }\n",
       "</style>\n",
       "<table border=\"1\" class=\"dataframe\">\n",
       "  <thead>\n",
       "    <tr style=\"text-align: right;\">\n",
       "      <th></th>\n",
       "      <th>ticker</th>\n",
       "      <th>balance</th>\n",
       "      <th>trade_count</th>\n",
       "    </tr>\n",
       "  </thead>\n",
       "  <tbody>\n",
       "    <tr>\n",
       "      <th>0</th>\n",
       "      <td>SOXS</td>\n",
       "      <td>0.00</td>\n",
       "      <td>0</td>\n",
       "    </tr>\n",
       "    <tr>\n",
       "      <th>1</th>\n",
       "      <td>SPXU</td>\n",
       "      <td>0.00</td>\n",
       "      <td>0</td>\n",
       "    </tr>\n",
       "    <tr>\n",
       "      <th>2</th>\n",
       "      <td>TZA</td>\n",
       "      <td>0.00</td>\n",
       "      <td>0</td>\n",
       "    </tr>\n",
       "    <tr>\n",
       "      <th>3</th>\n",
       "      <td>VXX</td>\n",
       "      <td>1202.19</td>\n",
       "      <td>77</td>\n",
       "    </tr>\n",
       "  </tbody>\n",
       "</table>\n",
       "</div>"
      ],
      "text/plain": [
       "  ticker  balance  trade_count\n",
       "0   SOXS     0.00            0\n",
       "1   SPXU     0.00            0\n",
       "2    TZA     0.00            0\n",
       "3    VXX  1202.19           77"
      ]
     },
     "execution_count": 48,
     "metadata": {},
     "output_type": "execute_result"
    }
   ],
   "source": [
    "deduct_expenses"
   ]
  },
  {
   "cell_type": "code",
   "execution_count": 49,
   "id": "cbd5998f-7548-43ee-9018-4224ee61c0f4",
   "metadata": {},
   "outputs": [],
   "source": [
    "def calc_deduct_profits(poses, trades, exclude_tickers=[]):\n",
    "    poses = filter_by_ticker(poses, exclude_tickers)\n",
    "    trades = filter_by_ticker(trades, exclude_tickers)\n",
    "    iterator = poses[poses['count_end'] != 0].iterrows()\n",
    "    open_end = 0\n",
    "    ixs = []\n",
    "    tickers = []\n",
    "    balance_sums = []\n",
    "    trade_counts = []\n",
    "\n",
    "    while True:\n",
    "        try: \n",
    "            pose = next(iterator)\n",
    "            sell_count = 0\n",
    "            balance_sum = .0\n",
    "            balance_price = pose[1]['balance'] / pose[1]['count_end']\n",
    "            for row in trades[(trades['ticker'] == pose[1]['ticker']) &\n",
    "                                     (trades['dir'] == 'Продажа')].iterrows():\n",
    "\n",
    "                sell_count += -row[1]['count']\n",
    "                balance_sum += -row[1]['count'] * balance_price\n",
    "                if sell_count > pose[1]['count_end']:\n",
    "                    balance_sum -= (sell_count - pose[1]['count_end']) * balance_price\n",
    "                    sell_count = pose[1]['count_end']\n",
    "                if pose[1]['count_end'] == sell_count:\n",
    "                    break\n",
    "            tickers.append(pose[1]['ticker'])\n",
    "            balance_sums.append(balance_sum)\n",
    "            trade_counts.append(sell_count)\n",
    "\n",
    "            open_end += 1\n",
    "            ixs.append(pose[0])\n",
    "        except StopIteration:\n",
    "            break\n",
    "    return pd.DataFrame(data={'ticker': tickers, 'balance': balance_sums, 'trade_count': trade_counts})"
   ]
  },
  {
   "cell_type": "code",
   "execution_count": 50,
   "id": "f71a837c-9792-422e-9546-bcdf995264be",
   "metadata": {},
   "outputs": [],
   "source": [
    "deduct_profits = calc_deduct_profits(poses_start, trades, exclude_tickers)"
   ]
  },
  {
   "cell_type": "code",
   "execution_count": 51,
   "id": "267732d5-8614-4c1a-93ff-3e481f07fb96",
   "metadata": {},
   "outputs": [
    {
     "data": {
      "text/html": [
       "<div>\n",
       "<style scoped>\n",
       "    .dataframe tbody tr th:only-of-type {\n",
       "        vertical-align: middle;\n",
       "    }\n",
       "\n",
       "    .dataframe tbody tr th {\n",
       "        vertical-align: top;\n",
       "    }\n",
       "\n",
       "    .dataframe thead th {\n",
       "        text-align: right;\n",
       "    }\n",
       "</style>\n",
       "<table border=\"1\" class=\"dataframe\">\n",
       "  <thead>\n",
       "    <tr style=\"text-align: right;\">\n",
       "      <th></th>\n",
       "      <th>ticker</th>\n",
       "      <th>balance</th>\n",
       "      <th>trade_count</th>\n",
       "    </tr>\n",
       "  </thead>\n",
       "  <tbody>\n",
       "    <tr>\n",
       "      <th>0</th>\n",
       "      <td>SOXS</td>\n",
       "      <td>0.00</td>\n",
       "      <td>0</td>\n",
       "    </tr>\n",
       "    <tr>\n",
       "      <th>1</th>\n",
       "      <td>SPXU</td>\n",
       "      <td>9451.40</td>\n",
       "      <td>1099</td>\n",
       "    </tr>\n",
       "    <tr>\n",
       "      <th>2</th>\n",
       "      <td>TZA</td>\n",
       "      <td>0.00</td>\n",
       "      <td>0</td>\n",
       "    </tr>\n",
       "    <tr>\n",
       "      <th>3</th>\n",
       "      <td>VXX</td>\n",
       "      <td>20046.85</td>\n",
       "      <td>1284</td>\n",
       "    </tr>\n",
       "  </tbody>\n",
       "</table>\n",
       "</div>"
      ],
      "text/plain": [
       "  ticker   balance  trade_count\n",
       "0   SOXS      0.00            0\n",
       "1   SPXU   9451.40         1099\n",
       "2    TZA      0.00            0\n",
       "3    VXX  20046.85         1284"
      ]
     },
     "execution_count": 51,
     "metadata": {},
     "output_type": "execute_result"
    }
   ],
   "source": [
    "deduct_profits"
   ]
  },
  {
   "cell_type": "code",
   "execution_count": 52,
   "id": "41c9f57d-7fef-474c-ad5b-7582c71816da",
   "metadata": {},
   "outputs": [],
   "source": [
    "def calc_profit_loss(trades, poses_current, poses_prev, exclude_tickers=[]):\n",
    "    trades = filter_by_ticker(trades, exclude_tickers)\n",
    "    reverse_trades = trades[::-1]\n",
    "    deduct_profits = calc_deduct_profits(poses_prev, trades, exclude_tickers)\n",
    "    deduct_expenses = calc_deduct_expenses(poses_current, reverse_trades, exclude_tickers)\n",
    "    sales_only_mask = trades['dir'] == 'Продажа'\n",
    "    purchases_only_mask = trades['dir'] == 'Купля'\n",
    "    profit = trades[sales_only_mask]['total'].sum()\n",
    "    expense = (-trades[purchases_only_mask]['total'].sum()) + \\\n",
    "                trades['com_brok'].sum() + \\\n",
    "                trades['com_ex'].sum() + \\\n",
    "                deduct_profits['balance'].sum() - \\\n",
    "                deduct_expenses['balance'].sum()\n",
    "    return pd.DataFrame({'profit': [profit], 'expense': [expense], 'result': [profit - expense]})\n",
    "            "
   ]
  },
  {
   "cell_type": "code",
   "execution_count": 53,
   "id": "b8e31206-a187-4dba-b714-061fb1011995",
   "metadata": {},
   "outputs": [
    {
     "data": {
      "text/html": [
       "<div>\n",
       "<style scoped>\n",
       "    .dataframe tbody tr th:only-of-type {\n",
       "        vertical-align: middle;\n",
       "    }\n",
       "\n",
       "    .dataframe tbody tr th {\n",
       "        vertical-align: top;\n",
       "    }\n",
       "\n",
       "    .dataframe thead th {\n",
       "        text-align: right;\n",
       "    }\n",
       "</style>\n",
       "<table border=\"1\" class=\"dataframe\">\n",
       "  <thead>\n",
       "    <tr style=\"text-align: right;\">\n",
       "      <th></th>\n",
       "      <th>profit</th>\n",
       "      <th>expense</th>\n",
       "      <th>result</th>\n",
       "    </tr>\n",
       "  </thead>\n",
       "  <tbody>\n",
       "    <tr>\n",
       "      <th>0</th>\n",
       "      <td>42540.22</td>\n",
       "      <td>45378.47</td>\n",
       "      <td>-2838.25</td>\n",
       "    </tr>\n",
       "  </tbody>\n",
       "</table>\n",
       "</div>"
      ],
      "text/plain": [
       "     profit   expense   result\n",
       "0  42540.22  45378.47 -2838.25"
      ]
     },
     "execution_count": 53,
     "metadata": {},
     "output_type": "execute_result"
    }
   ],
   "source": [
    "calc_profit_loss(trades, poses_end, poses_start, exclude_tickers)"
   ]
  },
  {
   "cell_type": "code",
   "execution_count": 29,
   "id": "de9598aa-400d-4042-a7f6-f5fc58a6f748",
   "metadata": {},
   "outputs": [
    {
     "data": {
      "text/plain": [
       "212.63"
      ]
     },
     "execution_count": 29,
     "metadata": {},
     "output_type": "execute_result"
    }
   ],
   "source": [
    "div = 250.15 - 37.52 # deriv only\n",
    "div"
   ]
  },
  {
   "cell_type": "code",
   "execution_count": 57,
   "id": "b8c5c748-c802-4117-b8df-edc8fa75730c",
   "metadata": {},
   "outputs": [
    {
     "data": {
      "text/plain": [
       "42752.85"
      ]
     },
     "execution_count": 57,
     "metadata": {},
     "output_type": "execute_result"
    }
   ],
   "source": [
    "42540.22\t+ div"
   ]
  },
  {
   "cell_type": "code",
   "execution_count": 23,
   "id": "5c7f5282-ca8b-4338-bed1-16bd37b36afd",
   "metadata": {},
   "outputs": [],
   "source": [
    "interest_margin_total = 434.94"
   ]
  },
  {
   "cell_type": "code",
   "execution_count": 56,
   "id": "ed0fbb85-ad2d-47b6-a11a-af846ed93355",
   "metadata": {},
   "outputs": [
    {
     "data": {
      "text/plain": [
       "4238656.693200001"
      ]
     },
     "execution_count": 56,
     "metadata": {},
     "output_type": "execute_result"
    }
   ],
   "source": [
    "(45378.47 + interest_margin_total) * usd_avg"
   ]
  }
 ],
 "metadata": {
  "kernelspec": {
   "display_name": "Python 3 (ipykernel)",
   "language": "python",
   "name": "python3"
  },
  "language_info": {
   "codemirror_mode": {
    "name": "ipython",
    "version": 3
   },
   "file_extension": ".py",
   "mimetype": "text/x-python",
   "name": "python",
   "nbconvert_exporter": "python",
   "pygments_lexer": "ipython3",
   "version": "3.12.7"
  }
 },
 "nbformat": 4,
 "nbformat_minor": 5
}
