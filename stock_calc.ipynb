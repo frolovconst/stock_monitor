{
 "cells": [
  {
   "cell_type": "markdown",
   "id": "9a1b5449-e346-4cb7-8165-52e5878d9342",
   "metadata": {},
   "source": [
    "vol - svrl days (4-6) of calm"
   ]
  },
  {
   "cell_type": "code",
   "execution_count": 52,
   "id": "439dc44d-5712-446e-b4d7-739b977ee4bd",
   "metadata": {},
   "outputs": [
    {
     "name": "stdout",
     "output_type": "stream",
     "text": [
      "41114.2 \t 36.3 \t 46930.8\n",
      "51138.6 \t 32.3 \t 54299.0\n",
      "62736.8 \t 28.8 \t 62823.9\n",
      "76156.0 \t 25.6 \t 72687.2\n",
      "===\n"
     ]
    }
   ],
   "source": [
    "sum_total = 32_450\n",
    "perc_decl = 11\n",
    "perc_incr = 30\n",
    "target_perc_growth = 25\n",
    "iter_count = 4\n",
    "total_iinv = sum_total\n",
    "price_init = 40.8\n",
    "\n",
    "for i in range(iter_count):\n",
    "    sum_total *= 1-perc_decl/100\n",
    "    added = sum_total * perc_incr/100\n",
    "    total_iinv += added\n",
    "    sum_total += added\n",
    "    price_init *= 1-perc_decl/100\n",
    "    print(f\"{total_iinv:.1f} \\t {price_init:.1f} \\t {sum_total * (1 + target_perc_growth/100):.1f}\")\n",
    "sum_total *= (1 + target_perc_growth/100)\n",
    "print(\"===\", )"
   ]
  },
  {
   "cell_type": "code",
   "execution_count": null,
   "id": "a356c3f6-1c43-4587-8965-a4eedb4dbef5",
   "metadata": {},
   "outputs": [],
   "source": []
  }
 ],
 "metadata": {
  "kernelspec": {
   "display_name": "Python 3 (ipykernel)",
   "language": "python",
   "name": "python3"
  },
  "language_info": {
   "codemirror_mode": {
    "name": "ipython",
    "version": 3
   },
   "file_extension": ".py",
   "mimetype": "text/x-python",
   "name": "python",
   "nbconvert_exporter": "python",
   "pygments_lexer": "ipython3",
   "version": "3.12.7"
  }
 },
 "nbformat": 4,
 "nbformat_minor": 5
}
