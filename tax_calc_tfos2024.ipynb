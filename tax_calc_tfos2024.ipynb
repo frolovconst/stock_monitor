{
 "cells": [
  {
   "cell_type": "code",
   "execution_count": 23,
   "id": "6aafad78-7d33-45a5-a976-782912563e55",
   "metadata": {},
   "outputs": [],
   "source": [
    "USD_AVG = 92.52\n"
   ]
  },
  {
   "cell_type": "markdown",
   "id": "7185acbd-c791-4f0a-960d-fc5d7c13c604",
   "metadata": {},
   "source": [
    "Sum of P/L - this is final result. Building earnings and expenses around it."
   ]
  },
  {
   "cell_type": "markdown",
   "id": "6fdc5a14-ede7-46f0-88b4-b43f66946989",
   "metadata": {},
   "source": [
    "Calculate derivs and regulars separately"
   ]
  },
  {
   "cell_type": "markdown",
   "id": "af829012-69a8-4e0e-a4a5-45879140b8e8",
   "metadata": {},
   "source": [
    "Base - sum of P/L"
   ]
  },
  {
   "cell_type": "markdown",
   "id": "a0dae783-34c7-4244-8cc6-7906e3c3e17d",
   "metadata": {},
   "source": [
    "Add to expenses: commission, interest"
   ]
  },
  {
   "cell_type": "markdown",
   "id": "a9398e79-f143-4740-8c6d-fa70b5451a2a",
   "metadata": {},
   "source": [
    "Add to earnings: dividends"
   ]
  },
  {
   "cell_type": "code",
   "execution_count": 8,
   "id": "ffdd9c3e-1711-4e55-941b-2b16b5483217",
   "metadata": {},
   "outputs": [],
   "source": [
    "PL_deriv = -1883.89"
   ]
  },
  {
   "cell_type": "code",
   "execution_count": 9,
   "id": "1c5f9a41-6374-431a-84a9-fcbab338aa43",
   "metadata": {},
   "outputs": [],
   "source": [
    "PL_reg = 466.38"
   ]
  },
  {
   "cell_type": "code",
   "execution_count": 10,
   "id": "9a0fda30-ae42-4ff8-bcc9-c21a03493202",
   "metadata": {},
   "outputs": [],
   "source": [
    "comm_deriv = 280.65\n",
    "comm_reg = 3.6"
   ]
  },
  {
   "cell_type": "code",
   "execution_count": 14,
   "id": "c141f775-20fa-4cba-9ca5-6dbdb50ad1b7",
   "metadata": {},
   "outputs": [],
   "source": [
    "total_interest = 2494.36 # filter by Type (first column)\n",
    "intereset_ratio_deriv = .8\n",
    "intereset_ratio_reg = 1 - intereset_ratio_deriv"
   ]
  },
  {
   "cell_type": "code",
   "execution_count": 12,
   "id": "439db4d1-ecad-4569-911a-7f85126a9036",
   "metadata": {},
   "outputs": [],
   "source": [
    "div_deriv = 647.32"
   ]
  },
  {
   "cell_type": "code",
   "execution_count": null,
   "id": "6f4271ab-61a5-42b1-ba44-d41e84bba5f4",
   "metadata": {},
   "outputs": [],
   "source": []
  },
  {
   "cell_type": "code",
   "execution_count": 15,
   "id": "b8c7b3c2-b3fc-49f4-a598-a8e4e07a808f",
   "metadata": {},
   "outputs": [
    {
     "data": {
      "text/plain": [
       "-3512.708"
      ]
     },
     "execution_count": 15,
     "metadata": {},
     "output_type": "execute_result"
    }
   ],
   "source": [
    "result_deriv = PL_deriv - comm_deriv + div_deriv - total_interest*intereset_ratio_deriv\n",
    "result_deriv"
   ]
  },
  {
   "cell_type": "code",
   "execution_count": 18,
   "id": "480df1d5-fd44-4aee-ab9e-a6d0249745c1",
   "metadata": {},
   "outputs": [
    {
     "data": {
      "text/plain": [
       "-36.09199999999993"
      ]
     },
     "execution_count": 18,
     "metadata": {},
     "output_type": "execute_result"
    }
   ],
   "source": [
    "result_reg = PL_reg - comm_reg - total_interest*intereset_ratio_reg\n",
    "result_reg"
   ]
  },
  {
   "cell_type": "markdown",
   "id": "57a435ca-6a72-4c37-abf5-d6ca51da6a5a",
   "metadata": {},
   "source": [
    "Now add earnings for Sell trades"
   ]
  },
  {
   "cell_type": "code",
   "execution_count": 19,
   "id": "ecfb3721-66c7-458b-988e-3a4936bdc371",
   "metadata": {},
   "outputs": [],
   "source": [
    "earnings_reg = 10368.96\n",
    "earnings_deriv = 306982.09"
   ]
  },
  {
   "cell_type": "code",
   "execution_count": 25,
   "id": "50f3e805-9313-4e65-8d17-15c46654cb38",
   "metadata": {},
   "outputs": [
    {
     "data": {
      "text/plain": [
       "962675.4110399999"
      ]
     },
     "execution_count": 25,
     "metadata": {},
     "output_type": "execute_result"
    }
   ],
   "source": [
    "expenses_reg = earnings_reg - result_reg\n",
    "expenses_reg * USD_AVG"
   ]
  },
  {
   "cell_type": "code",
   "execution_count": 24,
   "id": "0c6d687e-0194-4b8d-9e20-221a75d468e8",
   "metadata": {},
   "outputs": [
    {
     "data": {
      "text/plain": [
       "28726978.71096"
      ]
     },
     "execution_count": 24,
     "metadata": {},
     "output_type": "execute_result"
    }
   ],
   "source": [
    "expenses_deriv = earnings_deriv - result_deriv\n",
    "expenses_deriv * USD_AVG"
   ]
  },
  {
   "cell_type": "code",
   "execution_count": 29,
   "id": "7f8b6d57-022f-4810-9662-d636d3412824",
   "metadata": {},
   "outputs": [
    {
     "data": {
      "text/plain": [
       "53284.86"
      ]
     },
     "execution_count": 29,
     "metadata": {},
     "output_type": "execute_result"
    }
   ],
   "source": [
    "28*17.28 + 42*22 + 1*10 + 26*38.15 + 3546*3.21 + 1099*32.3 + 77*51.88"
   ]
  },
  {
   "cell_type": "code",
   "execution_count": 35,
   "id": "f3e62344-24de-4128-928c-4f147320e838",
   "metadata": {},
   "outputs": [
    {
     "data": {
      "text/plain": [
       "15170.181418071768"
      ]
     },
     "execution_count": 35,
     "metadata": {},
     "output_type": "execute_result"
    }
   ],
   "source": [
    "43.67 + 500 + 450 + 49.4+8+35.67 + 1303000 / USD_AVG"
   ]
  },
  {
   "cell_type": "code",
   "execution_count": 34,
   "id": "1e615435-fcf1-4811-a596-1389fc120251",
   "metadata": {},
   "outputs": [
    {
     "data": {
      "text/plain": [
       "-2796.67"
      ]
     },
     "execution_count": 34,
     "metadata": {},
     "output_type": "execute_result"
    }
   ],
   "source": [
    "-1753.6 - 1043.07"
   ]
  },
  {
   "cell_type": "code",
   "execution_count": 33,
   "id": "ea43bdc3-f70a-42c6-985d-1254c8ef2aec",
   "metadata": {},
   "outputs": [
    {
     "data": {
      "text/plain": [
       "1043.07"
      ]
     },
     "execution_count": 33,
     "metadata": {},
     "output_type": "execute_result"
    }
   ],
   "source": [
    "43.67 + 500 + 450 + 49.4"
   ]
  }
 ],
 "metadata": {
  "kernelspec": {
   "display_name": "Python 3 (ipykernel)",
   "language": "python",
   "name": "python3"
  },
  "language_info": {
   "codemirror_mode": {
    "name": "ipython",
    "version": 3
   },
   "file_extension": ".py",
   "mimetype": "text/x-python",
   "name": "python",
   "nbconvert_exporter": "python",
   "pygments_lexer": "ipython3",
   "version": "3.12.7"
  }
 },
 "nbformat": 4,
 "nbformat_minor": 5
}
